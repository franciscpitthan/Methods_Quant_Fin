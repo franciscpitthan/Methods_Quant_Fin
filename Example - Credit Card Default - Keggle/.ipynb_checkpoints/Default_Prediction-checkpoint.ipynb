{
 "cells": [
  {
   "cell_type": "markdown",
   "id": "45761331-f098-4ef5-a02e-f6c302dfdc24",
   "metadata": {},
   "source": [
    "# Introduction\n",
    "\n",
    "I am using Keggle's \n",
    "Default of Credit Card Clients Datase as an exercise for default prediction methods. Any comments and suggestions are more than welcome.\n",
    "\n",
    "## Data information\n",
    "\n",
    "Following information from Keggle:\n",
    "\n",
    "> This dataset contains information on default payments, demographic factors, credit data, history of payment, and bill statements of credit card clients in Taiwan from April 2005 to September 2005.\n",
    "\n",
    "Monetary and payment values are in New Taiwanease dollars. As of 2024, $1 EUR \\approx 35 NTD$.\n",
    "\n",
    "There are 25 variables in the dataset:\n",
    "\n",
    "- **ID:** ID of each client\r\n",
    "- **LIMIT_BAL:** Amount of given credit in NT dollars (includes individual and family/supplementary credit)\r\n",
    "- **SEX:** Gender (1=male, 2=female)\r\n",
    "- **EDUCATION:** (1=graduate school, 2=university, 3=high school, 4=others, 5=unknown, 6=unknown)\r\n",
    "- **MARRIAGE:** Marital status (1=married, 2=single, 3=others)\r\n",
    "- **AGE:** Age in years\r\n",
    "- **PAY_0:** Repayment status in September, 2005 (-1=pay duly, 1=payment delay for one month, 2=payment delay for two months, … 8=payment delay for eight months, 9=payment delay for nine months and above)\r\n",
    "- **PAY_2:** Repayment status in August, 2005 (scale same as above)\r\n",
    "- **PAY_3:** Repayment status in July, 2005 (scale same as above)\r\n",
    "- **PAY_4:** Repayment status in June, 2005 (scale same as above)\r\n",
    "- **PAY_5:** Repayment status in May, 2005 (scale same as above)\r\n",
    "- **PAY_6:** Repayment status in April, 2005 (scale same as above)\r\n",
    "- **BILL_AMT1:** Amount of bill statement in September, 2005 (NT dollar)\r\n",
    "- **BILL_AMT2:** Amount of bill statement in August, 2005 (NT dollar)\r\n",
    "- **BILL_AMT3:** Amount of bill statement in July, 2005 (NT dollar)\r\n",
    "- **BILL_AMT4:** Amount of bill statement in June, 2005 (NT dollar)\r\n",
    "- **BILL_AMT5:** Amount of bill statement in May, 2005 (NT dollar)\r\n",
    "- **BILL_AMT6:** Amount of bill statement in April, 2005 (NT dollar)\r\n",
    "- **PAY_AMT1:** Amount of previous payment in September, 2005 (NT dollar)\r\n",
    "- **PAY_AMT2:** Amount of previous payment in August, 2005 (NT dollar)\r\n",
    "- **PAY_AMT3:** Amount of previous payment in July, 2005 (NT dollar)\r\n",
    "- **PAY_AMT4:** Amount of previous payment in June, 2005 (NT dollar)\r\n",
    "- **PAY_AMT5:** Amount of previous payment in May, 2005 (NT dollar)\r\n",
    "- **PAY_AMT6:** Amount of previous payment in April, 2005 (NT dollar)\r\n",
    "- **default.payment.next.month:** Defaul\n",
    "## Data explorationt We will begin by payment (1=yes, 0=no)\r\n",
    "\n",
    "\n",
    "\n",
    "\n",
    "\n",
    "\n",
    "We need to start by importing Python libraries that will be used and by loading the dataset:\n",
    "\n"
   ]
  },
  {
   "cell_type": "code",
   "execution_count": null,
   "id": "d76b3a1f-dc66-4b5e-aefe-772074a5e5dc",
   "metadata": {},
   "outputs": [],
   "source": []
  }
 ],
 "metadata": {
  "kernelspec": {
   "display_name": "Python 3 (ipykernel)",
   "language": "python",
   "name": "python3"
  },
  "language_info": {
   "codemirror_mode": {
    "name": "ipython",
    "version": 3
   },
   "file_extension": ".py",
   "mimetype": "text/x-python",
   "name": "python",
   "nbconvert_exporter": "python",
   "pygments_lexer": "ipython3",
   "version": "3.11.7"
  }
 },
 "nbformat": 4,
 "nbformat_minor": 5
}
