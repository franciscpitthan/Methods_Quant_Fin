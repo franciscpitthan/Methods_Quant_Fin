{
 "cells": [
  {
   "cell_type": "markdown",
   "id": "0fdcb0b2-4470-426f-9575-69d89069ced9",
   "metadata": {},
   "source": [
    "# INTRODUCTION\n",
    "\n",
    "- **Randomness in Financial Markets**: Financial markets exhibit significant randomness, making it crucial to incorporate probabilistic models.\n",
    "- **Jensen’s Inequality**: Shows that the order of expectation and payoff calculations matters, emphasizing the need to model randomness accurately.\n",
    "- **Continuous Time Models**: Provide a more realistic and robust framework for understanding asset price movements and derivative pricing.\n",
    "- **Normal Distribution**: Central to financial modeling due to its natural occurrence and mathematical properties, facilitating the modeling of asset returns.\n",
    "\n",
    "\n",
    "\n"
   ]
  },
  {
   "cell_type": "markdown",
   "id": "52e97c3e-8038-40f0-adec-90e44f01936b",
   "metadata": {},
   "source": []
  }
 ],
 "metadata": {
  "kernelspec": {
   "display_name": "Python 3 (ipykernel)",
   "language": "python",
   "name": "python3"
  },
  "language_info": {
   "codemirror_mode": {
    "name": "ipython",
    "version": 3
   },
   "file_extension": ".py",
   "mimetype": "text/x-python",
   "name": "python",
   "nbconvert_exporter": "python",
   "pygments_lexer": "ipython3",
   "version": "3.11.7"
  }
 },
 "nbformat": 4,
 "nbformat_minor": 5
}
