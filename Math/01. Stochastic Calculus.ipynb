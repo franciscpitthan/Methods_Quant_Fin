{
 "cells": [
  {
   "cell_type": "markdown",
   "id": "9227f175-6e7f-4a05-878f-7d3aaa5ee733",
   "metadata": {},
   "source": [
    "# Introduction\n",
    "\n",
    "> Stochastic calculus is vital for modeling financial processes due to the inherent randomness in financial markets. It provides tools for manipulating random quantities, particularly through stochastic differential equations.\n",
    "\n",
    "**Intuition:**\n",
    "\n",
    "- Stochastic differential equations as a recipe for generating random walks.\n",
    "\n",
    " \n",
    "- If you have some quantity, let’s call it $S$, that follows such a random walk, then any function of S is also going to follow a random walk. For example, if $S$ is moving about randomly, then so is $S2=f(S)$ (e.g. $S^{2}$).\n",
    "\n",
    " \n",
    "- Ito's lemma similar to Taylor series with two tricks:\n",
    "    1) when you do your Taylor series expansion, only keep terms of size dt or bigger ($dt^{0.5}$).\n",
    "    2) every time you see a $dX2$ term replace it with $dt$. Since $dX$ is really made up of lots of Normally distributed random\n",
    "variables, and so $dX2$ becomes its expected value $dt$."
   ]
  },
  {
   "cell_type": "markdown",
   "id": "5fc8cae8-8c2e-44cb-a692-55d7a84ccfac",
   "metadata": {},
   "source": [
    "\n",
    "**COMMING SOONG**\n",
    "\n",
    "## Markov Property\n",
    "\n",
    "The Markov property implies that a random walk has no memory beyond its current state. Future states depend only on the present, not the past sequence of events. This property is crucial for modeling financial processes, where the current state sufficiently encapsulates all relevant information (e.g. i.i.d. draws of distribution).\n",
    "\n",
    "## Martingale Property\n",
    "\n",
    "The martingale property indicates that the expected future value of the process, given the present, is equal to its current value: $𝐸 [ 𝑆_𝑖 ∣ 𝑆_𝑗 ,   𝑗 < 𝑖 ] = 𝑆_𝑗$ (i.e. future values are expected to be the same of today, considering average returns of zero). This property is important in finance, reflecting fair game scenarios where no net gain is expected in future outcomes based on current information.\n",
    "\n",
    "## Quadratic Variation\n",
    "\n",
    "## Continuous-Time Random Walk\n",
    "\n",
    "## Brownian Motion\n",
    "\n",
    "Brownian motion is the limit of a scaled random walk as time steps shrink to zero. It is characterized by properties such as finiteness, continuity, Markov, martingale, and normality. Brownian motion serves as a foundational model for many financial processes due to its tractable mathematical properties and realistic depiction of market randomness.\n",
    "\n",
    "**Key properties:** \n",
    "\n",
    "* Brownian motion's key properties include $E[X(t)]=0$, $E[X(t)^2]=t$ (variance proportional to time), and continuous paths. Its quadratic variation is $\\sum (X(t_j)−X(t_{j−1}))^2$ goes to $t$. These properties make Brownian motion a robust model for random financial processes.\n",
    "\n",
    "* Fitness - Any other scaling of the bet size or ‘increments’ with time step would have\r\n",
    "resulted in either a random walk going to infinity in a finite time, or a limit in which there\r\n",
    "was no motion at all. It is important that the increment scales with the square root of\r\n",
    "the time st\n",
    "\n",
    "* Continuity:The paths are continuous, there are no discontinuities. Brownian motion\r\n",
    "is the continuous-time limit of our discrete time random walk.\n",
    "* Markov: The conditional distribution of $X(t)$ given information up until $\\tau < t$ depends \n",
    "only on$ X\\tau $).\n",
    "* Normality: Over finite time increments, the change $X(t_i) − X(t_{i−1})$ is normally distributed with mean zero and variance $t_i-t_{i−1}$.\n",
    "\n",
    "ep.\n",
    "\n",
    "\n",
    "## Stochastic Integration\n",
    "\n",
    "## Stochastic Differential Equations (SDEs)\n",
    "\n",
    "## Ito's Lemma\n",
    "\n",
    "## Application of Ito's Lemma\n",
    "\n",
    "## Intuition Behind Ito's Lemma\n",
    "\n",
    "## Generalization to Multiple Variables\n",
    "\n",
    "## Mean-Reverting Random Walk\n",
    "\n",
    "## Importance in Finance\n",
    "\n"
   ]
  },
  {
   "cell_type": "code",
   "execution_count": null,
   "id": "1084abcf-5982-4331-a8ce-b0cc059dc83f",
   "metadata": {},
   "outputs": [],
   "source": []
  }
 ],
 "metadata": {
  "kernelspec": {
   "display_name": "Python 3 (ipykernel)",
   "language": "python",
   "name": "python3"
  },
  "language_info": {
   "codemirror_mode": {
    "name": "ipython",
    "version": 3
   },
   "file_extension": ".py",
   "mimetype": "text/x-python",
   "name": "python",
   "nbconvert_exporter": "python",
   "pygments_lexer": "ipython3",
   "version": "3.11.7"
  }
 },
 "nbformat": 4,
 "nbformat_minor": 5
}
