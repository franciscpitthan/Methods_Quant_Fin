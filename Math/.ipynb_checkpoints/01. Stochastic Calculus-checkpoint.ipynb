{
 "cells": [
  {
   "cell_type": "markdown",
   "id": "c595f8c4-1ecb-42a4-b0f9-ac5dedc91f06",
   "metadata": {},
   "source": [
    "# Introduction\n",
    "\n",
    "> Stochastic calculus is vital for modeling financial processes due to the inherent randomness in financial markets. It provides tools for manipulating random quantities, particularly through stochastic differential equations.\n",
    "\n",
    "**Intuition:**\n",
    "\n",
    "- Stochastic differential equations as a recipe for generating random \n",
    "walk.\n",
    "\n",
    " .- • If you have some quantity, let’s call i$t$ S, that follows such a random wal ,\r\n",
    "then any function of S is also going to follow a random walk. For example, $i$f\r\n",
    "S is moving about randomly, then so$ i=f(S)$ (e.g. $S^{2}$)s\n",
    "\n",
    "  -2Ito's lemma similar to y like Taylories\r\n",
    "but with tw: 1)k is that when you do your Taylor series expansion,  nly keep\r\n",
    "terms of size dt o$r ^{0.5}$ge\n",
    "\n",
    "  r-(dt1/2).\r\n",
    "• The second trick is that every time$ yo$u see a dX2 term replace it with dt.\r\n",
    "W$hy$? Because dX is really made up of lots of Normally distributed random\r\n",
    "varia$ble$s, and so dX2 becomes its ex$pe$cted value dt.\n",
    "\n"
   ]
  },
  {
   "cell_type": "code",
   "execution_count": null,
   "id": "58709858-49ae-4a63-90bf-d4382e9d4d9c",
   "metadata": {},
   "outputs": [],
   "source": []
  }
 ],
 "metadata": {
  "kernelspec": {
   "display_name": "Python 3 (ipykernel)",
   "language": "python",
   "name": "python3"
  },
  "language_info": {
   "codemirror_mode": {
    "name": "ipython",
    "version": 3
   },
   "file_extension": ".py",
   "mimetype": "text/x-python",
   "name": "python",
   "nbconvert_exporter": "python",
   "pygments_lexer": "ipython3",
   "version": "3.11.7"
  }
 },
 "nbformat": 4,
 "nbformat_minor": 5
}
